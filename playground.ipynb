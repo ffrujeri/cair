{
 "cells": [
  {
   "cell_type": "code",
   "execution_count": null,
   "id": "e0a70d85-9e53-4b37-a43e-8b22768291b5",
   "metadata": {},
   "outputs": [],
   "source": [
    "def increment_counter(counter):\n",
    "    i = len(counter) - 1\n",
    "    while i >= 0:\n",
    "        if counter[i] < 25:\n",
    "            counter[i] += 1\n",
    "            return counter\n",
    "        counter[i] = 0\n",
    "        i -= 1\n",
    "    counter.insert(0, 0)\n",
    "    return counter\n",
    "\n",
    "def is_valid_key(key, k):\n",
    "    for i in range(len(key) - k + 1):\n",
    "        if all(char == key[i] for char in key[i:i+k]):\n",
    "            return False\n",
    "    return True\n",
    "\n",
    "def key_generator(n, k):\n",
    "    counter = [0] * n\n",
    "\n",
    "    while True:\n",
    "        key = [chr(digit + 65) for digit in counter]  # Converts counter digits to uppercase letters\n",
    "        if is_valid_key(key, k):\n",
    "            counter = increment_counter(counter)\n",
    "            yield ''.join(key)\n",
    "        else:\n",
    "            counter = increment_counter(counter)\n",
    "\n",
    "# Example usage\n",
    "n = 10  # Key size\n",
    "k = 3   # Maximum consecutive characters\n",
    "generator = key_generator(n, k)\n",
    "\n",
    "# Generate the next key\n",
    "next_key = next(generator)\n",
    "print(next_key)\n",
    "\n",
    "# Generate another key\n",
    "another_key = next(generator)\n",
    "print(another_key)"
   ]
  },
  {
   "cell_type": "code",
   "execution_count": 20,
   "id": "5e7334ad-05c6-4778-a285-e248f8c01d2e",
   "metadata": {},
   "outputs": [],
   "source": [
    "from __future__ import division, print_function, absolute_import\n",
    "\n",
    "import numpy as np\n",
    "\n",
    "def fAndG(W, X):\n",
    "    assert isinstance(W, np.ndarray)\n",
    "    dim = W.shape\n",
    "    assert len(dim) == 2\n",
    "    W_rows = dim[0]\n",
    "    W_cols = dim[1]\n",
    "    assert isinstance(X, np.ndarray)\n",
    "    dim = X.shape\n",
    "    assert len(dim) == 2\n",
    "    X_rows = dim[0]\n",
    "    X_cols = dim[1]\n",
    "    assert W_cols == X_rows\n",
    "\n",
    "    functionValue = (W).dot(X)\n",
    "    gradient = np.einsum('ik, jl', W, np.eye(X_cols, X_cols))\n",
    "\n",
    "    return functionValue, gradient"
   ]
  },
  {
   "cell_type": "code",
   "execution_count": 21,
   "id": "ee7efee8-42f9-4773-8f70-be5e59c8f6d0",
   "metadata": {},
   "outputs": [],
   "source": [
    "def checkGradient(W, X):\n",
    "    # numerical gradient checking\n",
    "    # f(x + t * delta) - f(x - t * delta) / (2t)\n",
    "    # should be roughly equal to inner product <g, delta>\n",
    "    t = 1E-6\n",
    "    delta = np.random.randn(3, 3)\n",
    "    f1, _ = fAndG(W, X + t * delta)\n",
    "    f2, _ = fAndG(W, X - t * delta)\n",
    "    f, g = fAndG(W, X)\n",
    "    print('approximation error', np.linalg.norm((f1 - f2) / (2*t) - np.tensordot(g, delta, axes=2)))"
   ]
  },
  {
   "cell_type": "code",
   "execution_count": 22,
   "id": "fc4edb16-ac11-4187-8fc6-43b87feb9249",
   "metadata": {},
   "outputs": [],
   "source": [
    "def generateRandomData():\n",
    "    W = np.random.randn(2, 3)\n",
    "    X = np.random.randn(3, 4)\n",
    "\n",
    "    return W, X"
   ]
  },
  {
   "cell_type": "code",
   "execution_count": 25,
   "id": "afc8b49b-82f5-4569-8d11-50e5bb4991a3",
   "metadata": {},
   "outputs": [
    {
     "name": "stdout",
     "output_type": "stream",
     "text": [
      "functionValue =  [[ 1.8238319   3.12866519 -1.68386798 -3.48356168]\n",
      " [ 2.86443458  1.64454758  0.77534399 -1.22635369]]\n",
      "gradient =  [[[[ 0.58413949  0.          0.          0.        ]\n",
      "   [-0.86482308  0.          0.          0.        ]\n",
      "   [-2.41932732  0.          0.          0.        ]]\n",
      "\n",
      "  [[ 0.          0.58413949  0.          0.        ]\n",
      "   [ 0.         -0.86482308  0.          0.        ]\n",
      "   [ 0.         -2.41932732  0.          0.        ]]\n",
      "\n",
      "  [[ 0.          0.          0.58413949  0.        ]\n",
      "   [ 0.          0.         -0.86482308  0.        ]\n",
      "   [ 0.          0.         -2.41932732  0.        ]]\n",
      "\n",
      "  [[ 0.          0.          0.          0.58413949]\n",
      "   [ 0.          0.          0.         -0.86482308]\n",
      "   [ 0.          0.          0.         -2.41932732]]]\n",
      "\n",
      "\n",
      " [[[-0.85331602  0.          0.          0.        ]\n",
      "   [-1.26688406  0.          0.          0.        ]\n",
      "   [-0.44898994  0.          0.          0.        ]]\n",
      "\n",
      "  [[ 0.         -0.85331602  0.          0.        ]\n",
      "   [ 0.         -1.26688406  0.          0.        ]\n",
      "   [ 0.         -0.44898994  0.          0.        ]]\n",
      "\n",
      "  [[ 0.          0.         -0.85331602  0.        ]\n",
      "   [ 0.          0.         -1.26688406  0.        ]\n",
      "   [ 0.          0.         -0.44898994  0.        ]]\n",
      "\n",
      "  [[ 0.          0.          0.         -0.85331602]\n",
      "   [ 0.          0.          0.         -1.26688406]\n",
      "   [ 0.          0.          0.         -0.44898994]]]]\n"
     ]
    },
    {
     "data": {
      "text/plain": [
       "(2, 4, 3, 4)"
      ]
     },
     "execution_count": 25,
     "metadata": {},
     "output_type": "execute_result"
    }
   ],
   "source": [
    "W, X = generateRandomData()\n",
    "functionValue, gradient = fAndG(W, X)\n",
    "print('functionValue = ', functionValue)\n",
    "print('gradient = ', gradient)\n",
    "\n",
    "gradient.shape"
   ]
  },
  {
   "cell_type": "code",
   "execution_count": null,
   "id": "83c08630-5186-41c2-b421-a7d47846a26f",
   "metadata": {},
   "outputs": [],
   "source": [
    "print('numerical gradient checking ...')\n",
    "checkGradient(W, X)"
   ]
  },
  {
   "cell_type": "code",
   "execution_count": 33,
   "id": "3f97ba3b-3377-476c-9af4-1c35a3d4b165",
   "metadata": {},
   "outputs": [
    {
     "data": {
      "text/plain": [
       "(6, 16)"
      ]
     },
     "execution_count": 33,
     "metadata": {},
     "output_type": "execute_result"
    }
   ],
   "source": [
    "A = np.random.randn(2,4)\n",
    "B = np.random.randn(3,4)\n",
    "\n",
    "np.kron(A,B).shape"
   ]
  },
  {
   "cell_type": "code",
   "execution_count": 37,
   "id": "c7559c8a-29d0-4950-ad44-89db958d7565",
   "metadata": {},
   "outputs": [
    {
     "data": {
      "text/plain": [
       "array([[1, 0],\n",
       "       [0, 2]])"
      ]
     },
     "execution_count": 37,
     "metadata": {},
     "output_type": "execute_result"
    }
   ],
   "source": [
    "A = np.diag([1,2])\n",
    "A"
   ]
  },
  {
   "cell_type": "code",
   "execution_count": 39,
   "id": "0f80ede4-4b8c-4a74-a99d-7d37b8b93c4c",
   "metadata": {},
   "outputs": [
    {
     "data": {
      "text/plain": [
       "[[1, 2], [3, 4]]"
      ]
     },
     "execution_count": 39,
     "metadata": {},
     "output_type": "execute_result"
    }
   ],
   "source": [
    "B = [[1,2],[3,4]]\n",
    "B"
   ]
  },
  {
   "cell_type": "code",
   "execution_count": 40,
   "id": "536f1ac4-c31b-46ed-825c-a0ff285a5333",
   "metadata": {},
   "outputs": [
    {
     "data": {
      "text/plain": [
       "array([[1, 2],\n",
       "       [6, 8]])"
      ]
     },
     "execution_count": 40,
     "metadata": {},
     "output_type": "execute_result"
    }
   ],
   "source": [
    "A @ B"
   ]
  },
  {
   "cell_type": "code",
   "execution_count": 41,
   "id": "f6555120-7dfe-4dfe-8829-2b74c051e8df",
   "metadata": {},
   "outputs": [
    {
     "data": {
      "text/plain": [
       "array([[1, 0],\n",
       "       [0, 8]])"
      ]
     },
     "execution_count": 41,
     "metadata": {},
     "output_type": "execute_result"
    }
   ],
   "source": [
    "A * B"
   ]
  },
  {
   "cell_type": "code",
   "execution_count": 43,
   "id": "475863f9-2c82-4dd8-9d46-b1d2a6d588b1",
   "metadata": {},
   "outputs": [
    {
     "data": {
      "text/plain": [
       "array([[1, 0],\n",
       "       [0, 2]])"
      ]
     },
     "execution_count": 43,
     "metadata": {},
     "output_type": "execute_result"
    }
   ],
   "source": [
    "np.diag(np.diag(A))"
   ]
  },
  {
   "cell_type": "code",
   "execution_count": 52,
   "id": "bbe78148-951f-4649-a686-c4b63e3c6cb9",
   "metadata": {},
   "outputs": [
    {
     "data": {
      "text/plain": [
       "array([[-1.62125267,  1.77374981],\n",
       "       [-0.4726807 ,  1.41600304]])"
      ]
     },
     "execution_count": 52,
     "metadata": {},
     "output_type": "execute_result"
    }
   ],
   "source": [
    "A = np.random.randn(2,2)\n",
    "A"
   ]
  },
  {
   "cell_type": "code",
   "execution_count": 53,
   "id": "37caf42f-8502-4a12-aa8b-794287d23ebd",
   "metadata": {},
   "outputs": [
    {
     "data": {
      "text/plain": [
       "array([[0.59106348, 0.37731101],\n",
       "       [0.34496551, 0.22113453]])"
      ]
     },
     "execution_count": 53,
     "metadata": {},
     "output_type": "execute_result"
    }
   ],
   "source": [
    "B = np.random.randn(2,2)\n",
    "B"
   ]
  },
  {
   "cell_type": "code",
   "execution_count": 54,
   "id": "34d5f8b5-3aec-4711-b15d-fe5677e42171",
   "metadata": {},
   "outputs": [
    {
     "data": {
      "text/plain": [
       "array([[-0.95826324,  0.66925533],\n",
       "       [-0.16305854,  0.31312716]])"
      ]
     },
     "execution_count": 54,
     "metadata": {},
     "output_type": "execute_result"
    }
   ],
   "source": [
    "A * B"
   ]
  },
  {
   "cell_type": "code",
   "execution_count": 55,
   "id": "e1804f23-d120-4a8a-8432-96d3c714f7fc",
   "metadata": {},
   "outputs": [
    {
     "data": {
      "text/plain": [
       "-0.6451360793976687"
      ]
     },
     "execution_count": 55,
     "metadata": {},
     "output_type": "execute_result"
    }
   ],
   "source": [
    "np.diag(A) @ np.diag(B)"
   ]
  },
  {
   "cell_type": "code",
   "execution_count": 58,
   "id": "f70d3759-1cb3-4239-8a69-84b825cd9a54",
   "metadata": {},
   "outputs": [
    {
     "data": {
      "text/plain": [
       "-0.6451360793976687"
      ]
     },
     "execution_count": 58,
     "metadata": {},
     "output_type": "execute_result"
    }
   ],
   "source": [
    "np.diag(A) @ np.diag(B)"
   ]
  },
  {
   "cell_type": "code",
   "execution_count": null,
   "id": "f31b7fe2-43dc-400b-9827-267c67d6edfd",
   "metadata": {},
   "outputs": [],
   "source": []
  }
 ],
 "metadata": {
  "kernelspec": {
   "display_name": "Python 3",
   "language": "python",
   "name": "python3"
  },
  "language_info": {
   "codemirror_mode": {
    "name": "ipython",
    "version": 3
   },
   "file_extension": ".py",
   "mimetype": "text/x-python",
   "name": "python",
   "nbconvert_exporter": "python",
   "pygments_lexer": "ipython3",
   "version": "3.6.13"
  }
 },
 "nbformat": 4,
 "nbformat_minor": 5
}
