{
 "cells": [
  {
   "cell_type": "code",
   "execution_count": 1,
   "id": "f8c20dc3-cdb2-40d4-8f2a-9147728e4e51",
   "metadata": {},
   "outputs": [
    {
     "name": "stdout",
     "output_type": "stream",
     "text": [
      "Requirement already satisfied: moviepy in c:\\users\\ffruj\\.conda\\envs\\interviews\\lib\\site-packages (1.0.3)\n",
      "Requirement already satisfied: imageio-ffmpeg>=0.2.0 in c:\\users\\ffruj\\.conda\\envs\\interviews\\lib\\site-packages (from moviepy) (0.4.7)\n",
      "Requirement already satisfied: requests<3.0,>=2.8.1 in c:\\users\\ffruj\\.conda\\envs\\interviews\\lib\\site-packages (from moviepy) (2.27.1)\n",
      "Requirement already satisfied: numpy in c:\\users\\ffruj\\.conda\\envs\\interviews\\lib\\site-packages (from moviepy) (1.19.5)\n",
      "Requirement already satisfied: decorator<5.0,>=4.0.2 in c:\\users\\ffruj\\.conda\\envs\\interviews\\lib\\site-packages (from moviepy) (4.4.2)\n",
      "Requirement already satisfied: proglog<=1.0.0 in c:\\users\\ffruj\\.conda\\envs\\interviews\\lib\\site-packages (from moviepy) (0.1.10)\n",
      "Requirement already satisfied: imageio<3.0,>=2.5 in c:\\users\\ffruj\\.conda\\envs\\interviews\\lib\\site-packages (from moviepy) (2.15.0)\n",
      "Requirement already satisfied: tqdm<5.0,>=4.11.2 in c:\\users\\ffruj\\.conda\\envs\\interviews\\lib\\site-packages (from moviepy) (4.64.0)\n",
      "Requirement already satisfied: pillow>=8.3.2 in c:\\users\\ffruj\\.conda\\envs\\interviews\\lib\\site-packages (from imageio<3.0,>=2.5->moviepy) (8.4.0)\n",
      "Requirement already satisfied: certifi>=2017.4.17 in c:\\users\\ffruj\\.conda\\envs\\interviews\\lib\\site-packages (from requests<3.0,>=2.8.1->moviepy) (2021.5.30)\n",
      "Requirement already satisfied: idna<4,>=2.5 in c:\\users\\ffruj\\.conda\\envs\\interviews\\lib\\site-packages (from requests<3.0,>=2.8.1->moviepy) (3.3)\n",
      "Requirement already satisfied: charset-normalizer~=2.0.0 in c:\\users\\ffruj\\.conda\\envs\\interviews\\lib\\site-packages (from requests<3.0,>=2.8.1->moviepy) (2.0.12)\n",
      "Requirement already satisfied: urllib3<1.27,>=1.21.1 in c:\\users\\ffruj\\.conda\\envs\\interviews\\lib\\site-packages (from requests<3.0,>=2.8.1->moviepy) (1.26.9)\n",
      "Requirement already satisfied: importlib-resources in c:\\users\\ffruj\\.conda\\envs\\interviews\\lib\\site-packages (from tqdm<5.0,>=4.11.2->moviepy) (5.4.0)\n",
      "Requirement already satisfied: colorama in c:\\users\\ffruj\\.conda\\envs\\interviews\\lib\\site-packages (from tqdm<5.0,>=4.11.2->moviepy) (0.4.4)\n",
      "Requirement already satisfied: zipp>=3.1.0 in c:\\users\\ffruj\\.conda\\envs\\interviews\\lib\\site-packages (from importlib-resources->tqdm<5.0,>=4.11.2->moviepy) (3.6.0)\n"
     ]
    }
   ],
   "source": [
    "!pip install moviepy"
   ]
  },
  {
   "cell_type": "code",
   "execution_count": 2,
   "id": "fdd5ffcd-c6d2-4345-9427-dea3108a366a",
   "metadata": {},
   "outputs": [],
   "source": [
    "from moviepy.editor import VideoFileClip\n",
    "from PIL import Image\n",
    "\n",
    "def convert_mp4_to_gif(mp4_file_path, gif_file_path):\n",
    "    clip = VideoFileClip(mp4_file_path)\n",
    "    clip.write_gif(gif_file_path)\n",
    "    \n",
    "\n",
    "def extract_frames_from_mp4(mp4_file_path, output_directory):\n",
    "    clip = VideoFileClip(mp4_file_path)\n",
    "    frames = clip.iter_frames()\n",
    "\n",
    "    frame_count = 1\n",
    "    for frame in frames:\n",
    "        frame_image_path = f\"{output_directory}\\\\frame_{frame_count}.jpg\"\n",
    "        frame_count += 1\n",
    "        # Save the frame as an image file\n",
    "        frame_image = Image.fromarray(frame)\n",
    "        frame_image.save(frame_image_path)"
   ]
  },
  {
   "cell_type": "code",
   "execution_count": 11,
   "id": "27f25e05-2375-492f-a4c0-7e00368b9c89",
   "metadata": {},
   "outputs": [
    {
     "name": "stdout",
     "output_type": "stream",
     "text": [
      "MoviePy - Building file C:\\Users\\ffruj\\Downloads\\wmg.gif with imageio.\n"
     ]
    },
    {
     "name": "stderr",
     "output_type": "stream",
     "text": [
      "                                                                                                                           \r"
     ]
    }
   ],
   "source": [
    "# Provide the paths for your MP4 and GIF files\n",
    "mp4_file_path = \"C:\\\\Users\\\\ffruj\\\\Downloads\\\\ur5.mp4\"\n",
    "gif_file_path = \"C:\\\\Users\\\\ffruj\\\\Downloads\\\\wmg.gif\"\n",
    "\n",
    "# Call the conversion function\n",
    "convert_mp4_to_gif(mp4_file_path, gif_file_path)"
   ]
  },
  {
   "cell_type": "code",
   "execution_count": 93,
   "id": "07e61ad7-5ac8-447c-87f2-a3dfe43bd25e",
   "metadata": {},
   "outputs": [],
   "source": [
    "# Provide the path to your MP4 file\n",
    "mp4_file_path = \"C:\\\\Users\\\\ffruj\\\\Downloads\\\\mocapact5.mp4\"\n",
    "\n",
    "# Provide the path to the output directory where you want to save the extracted frames\n",
    "output_directory = \"C:\\\\Users\\\\ffruj\\\\Downloads\\\\mocapact5\"\n",
    "\n",
    "# Call the extraction function\n",
    "extract_frames_from_mp4(mp4_file_path, output_directory)"
   ]
  },
  {
   "cell_type": "code",
   "execution_count": 108,
   "id": "0bc787e7-a6c4-4eeb-9e47-fb280a1e0961",
   "metadata": {},
   "outputs": [],
   "source": [
    "from PIL import Image\n",
    "import glob\n",
    "\n",
    "def create_gif(image_directory, gif_file_path, duration=25):\n",
    "    image_files = sorted(glob.glob(f\"{image_directory}/*.jpg\"))\n",
    "\n",
    "    frames = []\n",
    "    for image_file in image_files:\n",
    "        frame = Image.open(image_file)\n",
    "        frames.append(frame)\n",
    "\n",
    "    # Save the frames as a GIF\n",
    "    frames[0].save(gif_file_path, save_all=True, append_images=frames[0:], optimize=False, duration=duration, loop=0)\n",
    "\n",
    "# Provide the path to the directory containing the images\n",
    "image_directory = \"C:\\\\Users\\\\ffruj\\\\Downloads\\\\mocapact1\"\n",
    "\n",
    "# Provide the path for the output GIF file\n",
    "gif_file_path = \"C:\\\\Users\\\\ffruj\\\\Downloads\\\\mocapact1.gif\"\n",
    "\n",
    "# Call the GIF creation function\n",
    "create_gif(image_directory, gif_file_path)"
   ]
  },
  {
   "cell_type": "code",
   "execution_count": null,
   "id": "fef05840-3a6e-4898-9c0e-7fabd10fc755",
   "metadata": {},
   "outputs": [],
   "source": [
    "from moviepy.editor import ImageSequenceClip\n",
    "\n",
    "def create_mp4(image_directory, mp4_file_path, fps=24):\n",
    "    image_files = sorted(glob.glob(f\"{image_directory}/*.jpg\"))\n",
    "\n",
    "    clip = ImageSequenceClip(image_files, fps=fps)\n",
    "    clip.write_videofile(mp4_file_path, codec='libx264', audio=False)\n",
    "\n",
    "# Provide the path to the directory containing the images\n",
    "image_directory = \"C:\\\\Users\\\\ffruj\\\\Downloads\\\\holobot\"\n",
    "\n",
    "# Provide the path for the output MP4 file\n",
    "mp4_file_path = \"C:\\\\Users\\\\ffruj\\\\Downloads\\\\holobot.mp4\"\n",
    "\n",
    "# Call the MP4 creation function\n",
    "create_mp4(image_directory, mp4_file_path)"
   ]
  },
  {
   "cell_type": "code",
   "execution_count": 127,
   "id": "c28c1ae6-3cdf-47cb-9e8f-471912c5224b",
   "metadata": {},
   "outputs": [],
   "source": [
    "from PIL import Image\n",
    "import glob\n",
    "\n",
    "def create_sampled_gif(image_directory, gif_file_path, sample_rate=1, duration=25):\n",
    "    image_files = sorted(glob.glob(f\"{image_directory}/*.jpg\"))\n",
    "\n",
    "    frames = []\n",
    "    for i, image_file in enumerate(image_files):\n",
    "        if i % sample_rate == 0:\n",
    "            frame = Image.open(image_file)\n",
    "            # Apply anti-aliasing during resizing\n",
    "            width, height = frame.size\n",
    "            downscaled_width = int(width / 2)\n",
    "            downscaled_height = int(height / 2)\n",
    "            frame = frame.resize((downscaled_width, downscaled_height), Image.ANTIALIAS)\n",
    "            frames.append(frame)\n",
    "\n",
    "    # Save the frames as a GIF\n",
    "    frames[0].info.pop('background', None) # remove background\n",
    "    frames[0].save(gif_file_path, format=\"GIF\", append_images=frames, optimize=True, save_all=True, duration=duration, loop=0)\n",
    "\n",
    "# Provide the path to the directory containing the images\n",
    "image_directory = \"C:\\\\Users\\\\ffruj\\\\Downloads\\\\mocapact1\"\n",
    "\n",
    "# Provide the path for the output GIF file\n",
    "gif_file_path = \"C:\\\\Users\\\\ffruj\\\\Downloads\\\\mocapact1.gif\"\n",
    "\n",
    "# Call the sampled GIF creation function\n",
    "create_sampled_gif(image_directory, gif_file_path)"
   ]
  },
  {
   "cell_type": "code",
   "execution_count": 109,
   "id": "51163668-fc7a-4454-80a0-94223412bc07",
   "metadata": {},
   "outputs": [],
   "source": [
    "import imageio\n",
    "images = []\n",
    "\n",
    "image_directory = \"C:\\\\Users\\\\ffruj\\\\Downloads\\\\mocapact1\"\n",
    "gif_file_path = \"C:\\\\Users\\\\ffruj\\\\Downloads\\\\mocapact1.gif\"\n",
    "\n",
    "image_files = sorted(glob.glob(f\"{image_directory}/*.jpg\"))\n",
    "for filename in image_files:\n",
    "    images.append(imageio.imread(filename))\n",
    "imageio.mimsave(gif_file_path, images)"
   ]
  },
  {
   "cell_type": "code",
   "execution_count": 110,
   "id": "192ebb7f-50ce-4474-b113-4fe97206dab9",
   "metadata": {},
   "outputs": [],
   "source": [
    "image_files = sorted(glob.glob(f\"{image_directory}/*.jpg\"))\n",
    "\n",
    "with imageio.get_writer(gif_file_path, mode='I') as writer:\n",
    "    for filename in image_files:\n",
    "        image = imageio.imread(filename)\n",
    "        writer.append_data(image)"
   ]
  },
  {
   "cell_type": "code",
   "execution_count": null,
   "id": "3e30107f-b9e2-40db-ac86-d25fe0ebf658",
   "metadata": {},
   "outputs": [],
   "source": []
  }
 ],
 "metadata": {
  "kernelspec": {
   "display_name": "Python 3",
   "language": "python",
   "name": "python3"
  },
  "language_info": {
   "codemirror_mode": {
    "name": "ipython",
    "version": 3
   },
   "file_extension": ".py",
   "mimetype": "text/x-python",
   "name": "python",
   "nbconvert_exporter": "python",
   "pygments_lexer": "ipython3",
   "version": "3.6.13"
  }
 },
 "nbformat": 4,
 "nbformat_minor": 5
}
