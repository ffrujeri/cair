{
 "cells": [
  {
   "cell_type": "code",
   "execution_count": 1,
   "id": "93924e94-bf2d-442b-a1ed-09a7bb853911",
   "metadata": {},
   "outputs": [
    {
     "data": {
      "text/plain": [
       "0.8005160421910208"
      ]
     },
     "execution_count": 1,
     "metadata": {},
     "output_type": "execute_result"
    }
   ],
   "source": [
    "import random\n",
    "\n",
    "random.random()\n",
    "random.randint(1, 5)"
   ]
  },
  {
   "cell_type": "code",
   "execution_count": 4,
   "id": "9cae8a6c-050f-4030-a1b8-47a98958eae8",
   "metadata": {},
   "outputs": [],
   "source": [
    "from collections import defaultdict\n",
    "d = defaultdict(int)\n",
    "d[2]"
   ]
  },
  {
   "cell_type": "code",
   "execution_count": 10,
   "id": "bf4f471d-3ada-4961-9b81-791886840d8b",
   "metadata": {},
   "outputs": [],
   "source": [
    "from collections import Counter\n",
    "\n",
    "t = 'aaabbcc'\n",
    "dict_t = Counter(t)\n",
    "dict_t"
   ]
  },
  {
   "cell_type": "code",
   "execution_count": 23,
   "id": "dceb5e4b-c516-40c5-9efb-b5492df6653b",
   "metadata": {},
   "outputs": [
    {
     "data": {
      "text/plain": [
       "[0.1, 0.4, 0.6000000000000001, 1.0]"
      ]
     },
     "execution_count": 23,
     "metadata": {},
     "output_type": "execute_result"
    }
   ],
   "source": [
    "from itertools import accumulate\n",
    "\n",
    "probs = [0.1, 0.3, 0.2, 0.4]\n",
    "\n",
    "boundaries = list(accumulate(probs))\n",
    "boundaries"
   ]
  },
  {
   "cell_type": "code",
   "execution_count": 27,
   "id": "0fcfcdb7-713d-4b57-820f-c0f70cf0475b",
   "metadata": {},
   "outputs": [
    {
     "data": {
      "text/plain": [
       "0.7535718573043684"
      ]
     },
     "execution_count": 27,
     "metadata": {},
     "output_type": "execute_result"
    }
   ],
   "source": [
    "sample = random.random()\n",
    "sample"
   ]
  },
  {
   "cell_type": "code",
   "execution_count": 78,
   "id": "44110eb2-ac10-432e-953a-383cec3110f4",
   "metadata": {},
   "outputs": [
    {
     "data": {
      "text/plain": [
       "[2]"
      ]
     },
     "execution_count": 78,
     "metadata": {},
     "output_type": "execute_result"
    }
   ],
   "source": [
    "random.choices([1,2,3,4], probs)"
   ]
  },
  {
   "cell_type": "code",
   "execution_count": 47,
   "id": "d17b2de2-b468-494b-847d-7efd15f792fe",
   "metadata": {},
   "outputs": [
    {
     "data": {
      "text/plain": [
       "1"
      ]
     },
     "execution_count": 47,
     "metadata": {},
     "output_type": "execute_result"
    }
   ],
   "source": [
    "import bisect\n",
    "\n",
    "bisect.bisect_left(boundaries, sample)\n",
    "bisect.bisect_right(l, 2)\n",
    "bisect.bisect_left(l, 2)\n",
    "bisect.bisect(l,2)\n",
    "\n",
    "l = [1,3,3,3,3,4,7,8]\n",
    "def bisect(arr, target):\n",
    "    left = 0\n",
    "    right = len(arr)\n",
    "    \n",
    "    while left < right:\n",
    "        mid = (left + right) // 2\n",
    "        if arr[mid] < target:\n",
    "            left = mid + 1\n",
    "        elif arr[mid] == target:  # early break\n",
    "            return mid\n",
    "        else:\n",
    "            right = mid\n",
    "    \n",
    "    return left\n",
    "\n",
    "bisect(l, 2)\n",
    "bisect(l,3)"
   ]
  },
  {
   "cell_type": "code",
   "execution_count": null,
   "id": "9b1633e0-d85b-41af-b6ea-0a59bdd6d144",
   "metadata": {},
   "outputs": [],
   "source": [
    "class Node:\n",
    "    def __init__(self, value):\n",
    "        self.value = value\n",
    "        self.left = None\n",
    "        self.right = None"
   ]
  },
  {
   "cell_type": "code",
   "execution_count": 49,
   "id": "35f9c6aa-ceb7-48ae-a7ff-7bfcdc08fdb7",
   "metadata": {},
   "outputs": [
    {
     "name": "stdout",
     "output_type": "stream",
     "text": [
      "True\n",
      "False\n"
     ]
    }
   ],
   "source": [
    "class Node:\n",
    "    def __init__(self, value):\n",
    "        self.value = value\n",
    "        self.left = None\n",
    "        self.right = None\n",
    "        \n",
    "def is_valid_bst(root):\n",
    "    def is_valid_bst_util(node, lower=float('-inf'), upper=float('inf')):\n",
    "        if node is None:\n",
    "            return True\n",
    "\n",
    "        value = node.value\n",
    "        if not (lower <= value <= upper):\n",
    "            return False\n",
    "\n",
    "        if not is_valid_bst_util(node.left, lower, value):\n",
    "            return False\n",
    "\n",
    "        if not is_valid_bst_util(node.right, value, upper):\n",
    "            return False\n",
    "\n",
    "        return True\n",
    "\n",
    "    return is_valid_bst_util(root)\n",
    "\n",
    "# Creating a valid BST\n",
    "root = Node(4)\n",
    "root.left = Node(2)\n",
    "root.right = Node(6)\n",
    "root.left.left = Node(1)\n",
    "root.left.right = Node(3)\n",
    "root.right.left = Node(5)\n",
    "root.right.right = Node(7)\n",
    "\n",
    "print(is_valid_bst(root))  # Output: True\n",
    "\n",
    "# Creating an invalid BST\n",
    "root = Node(4)\n",
    "root.left = Node(2)\n",
    "root.right = Node(6)\n",
    "root.left.left = Node(1)\n",
    "root.left.right = Node(5)  # Invalid node\n",
    "root.right.left = Node(5)  # Invalid node\n",
    "root.right.right = Node(7)\n",
    "\n",
    "print(is_valid_bst(root))  # Output: False"
   ]
  },
  {
   "cell_type": "code",
   "execution_count": 66,
   "id": "4221cb1a-5fbc-41cb-bda7-5080d1d7e768",
   "metadata": {},
   "outputs": [
    {
     "name": "stdout",
     "output_type": "stream",
     "text": [
      "hell l True {}\n",
      "hello o True {}\n",
      "helloo o True {}\n",
      "apple e True {}\n",
      "laptop p True {}\n",
      "\n",
      "h h False {'e': <__main__.TrieNode object at 0x0000011B22FA4400>}\n",
      "\n",
      "he e False {'l': <__main__.TrieNode object at 0x0000011B22FA4240>}\n",
      "\n",
      "hel l False {'l': <__main__.TrieNode object at 0x0000011B22FA40F0>}\n",
      "\n",
      "hell l True {'o': <__main__.TrieNode object at 0x0000011B22FA41D0>}\n",
      "\n",
      "hello o True {'o': <__main__.TrieNode object at 0x0000011B22FA4358>}\n",
      "\n",
      "helloo o True {}\n",
      "\n",
      "helloo o True {}\n",
      "Valid word found: helloo\n"
     ]
    }
   ],
   "source": [
    "class TrieNode:\n",
    "    def __init__(self, char):\n",
    "        self.char = char\n",
    "        self.is_word_end = False\n",
    "        self.children = {}\n",
    "\n",
    "class Trie:\n",
    "    def __init__(self):\n",
    "        self.root = TrieNode(\"\")\n",
    "\n",
    "    def insert(self, word):\n",
    "        node = self.root\n",
    "        for char in word:\n",
    "            if char not in node.children:\n",
    "                node.children[char] = TrieNode(char)\n",
    "            node = node.children[char]\n",
    "        node.is_word_end = True\n",
    "        print(word, node.char, node.is_word_end, node.children)\n",
    "\n",
    "    def search(self, word):\n",
    "        node = self.root\n",
    "        for char in word:\n",
    "            if char not in node.children:\n",
    "                return False\n",
    "            node = node.children[char]\n",
    "        print()\n",
    "        print(word, node.char, node.is_word_end, node.children)\n",
    "        return node.is_word_end or len(node.children) > 0\n",
    "\n",
    "def build_trie(valid_words):\n",
    "    trie = Trie()\n",
    "    for word in valid_words:\n",
    "        trie.insert(word)\n",
    "    return trie\n"
   ]
  },
  {
   "cell_type": "code",
   "execution_count": 67,
   "id": "5e6647a6-880d-4c73-b9ef-b117222908b4",
   "metadata": {},
   "outputs": [
    {
     "name": "stdout",
     "output_type": "stream",
     "text": [
      "A\n",
      "B\n",
      "C\n",
      "E\n",
      "F\n",
      "G\n",
      "D\n"
     ]
    }
   ],
   "source": [
    "class TreeNode:\n",
    "    def __init__(self, value):\n",
    "        self.value = value\n",
    "        self.children = []\n",
    "\n",
    "    def add_child(self, child):\n",
    "        self.children.append(child)\n",
    "\n",
    "def depth_first_search(node):\n",
    "    if node is None:\n",
    "        return\n",
    "\n",
    "    print(node.value)  # Visit the current node\n",
    "\n",
    "    for child in node.children:\n",
    "        depth_first_search(child)  # Recursively traverse the child nodes\n",
    "\n",
    "# Example usage:\n",
    "# Create a tree with the following structure:\n",
    "#        A\n",
    "#      / | \\\n",
    "#     B  C  D\n",
    "#        |\n",
    "#        E\n",
    "#       / \\\n",
    "#      F   G\n",
    "\n",
    "root = TreeNode('A')\n",
    "root.add_child(TreeNode('B'))\n",
    "root.add_child(TreeNode('C'))\n",
    "root.add_child(TreeNode('D'))\n",
    "\n",
    "node_c = TreeNode('E')\n",
    "root.children[1].add_child(node_c)\n",
    "\n",
    "node_c.add_child(TreeNode('F'))\n",
    "node_c.add_child(TreeNode('G'))\n",
    "\n",
    "depth_first_search(root)\n"
   ]
  },
  {
   "cell_type": "code",
   "execution_count": 68,
   "id": "a00d3a07-9a87-473b-9fb5-b1e255ec3e7c",
   "metadata": {},
   "outputs": [
    {
     "name": "stdout",
     "output_type": "stream",
     "text": [
      "A\n",
      "B\n",
      "C\n",
      "D\n",
      "E\n",
      "F\n",
      "G\n"
     ]
    }
   ],
   "source": [
    "from collections import deque\n",
    "\n",
    "class TreeNode:\n",
    "    def __init__(self, value):\n",
    "        self.value = value\n",
    "        self.children = []\n",
    "\n",
    "    def add_child(self, child):\n",
    "        self.children.append(child)\n",
    "\n",
    "def breadth_first_search(root):\n",
    "    if root is None:\n",
    "        return\n",
    "\n",
    "    queue = deque()\n",
    "    queue.append(root)  # Enqueue the root node\n",
    "\n",
    "    while queue:\n",
    "        node = queue.popleft()  # Dequeue a node\n",
    "        print(node.value)  # Visit the dequeued node\n",
    "\n",
    "        for child in node.children:\n",
    "            queue.append(child)  # Enqueue the child nodes\n",
    "\n",
    "# Example usage:\n",
    "# Create a tree with the following structure:\n",
    "#        A\n",
    "#      / | \\\n",
    "#     B  C  D\n",
    "#        |\n",
    "#        E\n",
    "#       / \\\n",
    "#      F   G\n",
    "\n",
    "root = TreeNode('A')\n",
    "root.add_child(TreeNode('B'))\n",
    "root.add_child(TreeNode('C'))\n",
    "root.add_child(TreeNode('D'))\n",
    "\n",
    "node_c = TreeNode('E')\n",
    "root.children[1].add_child(node_c)\n",
    "\n",
    "node_c.add_child(TreeNode('F'))\n",
    "node_c.add_child(TreeNode('G'))\n",
    "\n",
    "breadth_first_search(root)\n"
   ]
  },
  {
   "cell_type": "code",
   "execution_count": 73,
   "id": "a7131469-0bce-4219-ab5a-e7bf1ac5a777",
   "metadata": {},
   "outputs": [
    {
     "name": "stdout",
     "output_type": "stream",
     "text": [
      "\n",
      "A\n",
      "C\n",
      "B\n",
      "D\n",
      "E\n",
      "F\n"
     ]
    }
   ],
   "source": [
    "from collections import deque\n",
    "\n",
    "class GraphNode:\n",
    "    def __init__(self, value):\n",
    "        self.value = value\n",
    "        self.neighbors = []\n",
    "\n",
    "    def add_neighbor(self, neighbor):\n",
    "        self.neighbors.append(neighbor)\n",
    "\n",
    "def bfs(start_node):\n",
    "    visited = set()\n",
    "    queue = deque()\n",
    "\n",
    "    visited.add(start_node)\n",
    "    queue.append(start_node)\n",
    "\n",
    "    while queue:\n",
    "        node = queue.popleft()\n",
    "        print(node.value)\n",
    "\n",
    "        for neighbor in node.neighbors:\n",
    "            if neighbor not in visited:\n",
    "                visited.add(neighbor)\n",
    "                queue.append(neighbor)\n",
    "\n",
    "def dfs_iterative(start_node):\n",
    "    if start_node is None:\n",
    "        return\n",
    "\n",
    "    visited = set()\n",
    "    stack = [start_node]\n",
    "\n",
    "    res = []\n",
    "    while stack:\n",
    "        node = stack.pop()\n",
    "        if node not in visited:\n",
    "            visited.add(node)\n",
    "            print(node.value)\n",
    "            res.append(node.value)\n",
    "\n",
    "            for neighbor in node.neighbors:\n",
    "                stack.append(neighbor)\n",
    "    \n",
    "    return res\n",
    "\n",
    "def dfs_recursive(node, visited):\n",
    "    if node is None:\n",
    "        return\n",
    "\n",
    "    visited.add(node)\n",
    "    print(node.value)\n",
    "\n",
    "    for neighbor in node.neighbors:\n",
    "        if neighbor not in visited:\n",
    "            depth_first_search_recursive(neighbor, visited)\n",
    "\n",
    "# # Create graph nodes (same graph structure as before)\n",
    "# node_a = GraphNode('A')\n",
    "# node_b = GraphNode('B')\n",
    "# node_c = GraphNode('C')\n",
    "# node_d = GraphNode('D')\n",
    "# node_e = GraphNode('E')\n",
    "# node_f = GraphNode('F')\n",
    "\n",
    "# # Connect nodes to form a graph\n",
    "# node_a.add_neighbor(node_b)\n",
    "# node_b.add_neighbor(node_c)\n",
    "# node_a.add_neighbor(node_d)\n",
    "# node_d.add_neighbor(node_e)\n",
    "# node_e.add_neighbor(node_f)\n",
    "\n",
    "# # Perform BFS starting from node A\n",
    "# bfs(node_a)\n",
    "\n",
    "def topological_sort(node):\n",
    "    stack = []\n",
    "    visited = set()\n",
    "\n",
    "    def dfs(current):\n",
    "        visited.add(current)\n",
    "        for neighbor in current.neighbors:\n",
    "            if neighbor not in visited:\n",
    "                dfs(neighbor)\n",
    "        stack.append(current)\n",
    "\n",
    "    dfs(node)\n",
    "    return stack[::-1]\n",
    "\n",
    "# Example usage:\n",
    "# Create graph nodes\n",
    "A = GraphNode(\"A\")\n",
    "B = GraphNode(\"B\")\n",
    "C = GraphNode(\"C\")\n",
    "D = GraphNode(\"D\")\n",
    "E = GraphNode(\"E\")\n",
    "F = GraphNode(\"F\")\n",
    "\n",
    "# Add neighbors\n",
    "A.add_neighbor(B)\n",
    "A.add_neighbor(C)\n",
    "B.add_neighbor(D)\n",
    "C.add_neighbor(D)\n",
    "D.add_neighbor(E)\n",
    "E.add_neighbor(F)\n",
    "\n",
    "# Perform topological sort\n",
    "sorted_nodes = topological_sort(A)\n",
    "print()\n",
    "for node in sorted_nodes:\n",
    "    print(node.value)"
   ]
  },
  {
   "cell_type": "code",
   "execution_count": 89,
   "id": "402d0784-3709-4d47-aaef-f09b922894ea",
   "metadata": {},
   "outputs": [
    {
     "ename": "AttributeError",
     "evalue": "'float' object has no attribute 'children'",
     "output_type": "error",
     "traceback": [
      "\u001b[1;31m---------------------------------------------------------------------------\u001b[0m",
      "\u001b[1;31mAttributeError\u001b[0m                            Traceback (most recent call last)",
      "\u001b[1;32m<ipython-input-89-3e40c78af065>\u001b[0m in \u001b[0;36m<module>\u001b[1;34m\u001b[0m\n\u001b[0;32m     72\u001b[0m \u001b[1;33m\u001b[0m\u001b[0m\n\u001b[0;32m     73\u001b[0m \u001b[1;31m# Perform beam search\u001b[0m\u001b[1;33m\u001b[0m\u001b[1;33m\u001b[0m\u001b[1;33m\u001b[0m\u001b[0m\n\u001b[1;32m---> 74\u001b[1;33m \u001b[0mgenerated_sentence\u001b[0m \u001b[1;33m=\u001b[0m \u001b[0mbeam_search\u001b[0m\u001b[1;33m(\u001b[0m\u001b[0mtrie_root\u001b[0m\u001b[1;33m,\u001b[0m \u001b[0mbeam_width\u001b[0m\u001b[1;33m,\u001b[0m \u001b[0mmax_length\u001b[0m\u001b[1;33m)\u001b[0m\u001b[1;33m\u001b[0m\u001b[1;33m\u001b[0m\u001b[0m\n\u001b[0m\u001b[0;32m     75\u001b[0m \u001b[1;33m\u001b[0m\u001b[0m\n\u001b[0;32m     76\u001b[0m \u001b[0mprint\u001b[0m\u001b[1;33m(\u001b[0m\u001b[0mgenerated_sentence\u001b[0m\u001b[1;33m)\u001b[0m\u001b[1;33m\u001b[0m\u001b[1;33m\u001b[0m\u001b[0m\n",
      "\u001b[1;32m<ipython-input-89-3e40c78af065>\u001b[0m in \u001b[0;36mbeam_search\u001b[1;34m(initial_state, beam_width, max_length)\u001b[0m\n\u001b[0;32m     29\u001b[0m         \u001b[1;32mfor\u001b[0m \u001b[0mcandidate_node\u001b[0m\u001b[1;33m,\u001b[0m \u001b[0mscore\u001b[0m \u001b[1;32min\u001b[0m \u001b[0mbeam\u001b[0m\u001b[1;33m:\u001b[0m\u001b[1;33m\u001b[0m\u001b[1;33m\u001b[0m\u001b[0m\n\u001b[0;32m     30\u001b[0m             \u001b[1;31m# Generate all possible next candidates from the current candidate node\u001b[0m\u001b[1;33m\u001b[0m\u001b[1;33m\u001b[0m\u001b[1;33m\u001b[0m\u001b[0m\n\u001b[1;32m---> 31\u001b[1;33m             \u001b[0mnext_candidates\u001b[0m \u001b[1;33m=\u001b[0m \u001b[0mgenerate_next_candidates\u001b[0m\u001b[1;33m(\u001b[0m\u001b[0mcandidate_node\u001b[0m\u001b[1;33m)\u001b[0m\u001b[1;33m\u001b[0m\u001b[1;33m\u001b[0m\u001b[0m\n\u001b[0m\u001b[0;32m     32\u001b[0m             \u001b[1;32mfor\u001b[0m \u001b[0mnext_candidate\u001b[0m \u001b[1;32min\u001b[0m \u001b[0mnext_candidates\u001b[0m\u001b[1;33m:\u001b[0m\u001b[1;33m\u001b[0m\u001b[1;33m\u001b[0m\u001b[0m\n\u001b[0;32m     33\u001b[0m                 \u001b[1;31m# Calculate the score for the next candidate node\u001b[0m\u001b[1;33m\u001b[0m\u001b[1;33m\u001b[0m\u001b[1;33m\u001b[0m\u001b[0m\n",
      "\u001b[1;32m<ipython-input-89-3e40c78af065>\u001b[0m in \u001b[0;36mgenerate_next_candidates\u001b[1;34m(candidate_node)\u001b[0m\n\u001b[0;32m      9\u001b[0m \u001b[1;33m\u001b[0m\u001b[0m\n\u001b[0;32m     10\u001b[0m \u001b[1;32mdef\u001b[0m \u001b[0mgenerate_next_candidates\u001b[0m\u001b[1;33m(\u001b[0m\u001b[0mcandidate_node\u001b[0m\u001b[1;33m)\u001b[0m\u001b[1;33m:\u001b[0m\u001b[1;33m\u001b[0m\u001b[1;33m\u001b[0m\u001b[0m\n\u001b[1;32m---> 11\u001b[1;33m     \u001b[0mnext_candidates\u001b[0m \u001b[1;33m=\u001b[0m \u001b[0mcandidate_node\u001b[0m\u001b[1;33m.\u001b[0m\u001b[0mchildren\u001b[0m\u001b[1;33m\u001b[0m\u001b[1;33m\u001b[0m\u001b[0m\n\u001b[0m\u001b[0;32m     12\u001b[0m     \u001b[1;32mreturn\u001b[0m \u001b[0mnext_candidates\u001b[0m\u001b[1;33m\u001b[0m\u001b[1;33m\u001b[0m\u001b[0m\n\u001b[0;32m     13\u001b[0m \u001b[1;33m\u001b[0m\u001b[0m\n",
      "\u001b[1;31mAttributeError\u001b[0m: 'float' object has no attribute 'children'"
     ]
    }
   ],
   "source": [
    "from typing import List\n",
    "import heapq\n",
    "\n",
    "class TrieNode:\n",
    "    def __init__(self, character: str = '', probability: float = 0.0):\n",
    "        self.character = character\n",
    "        self.probability = probability\n",
    "        self.children = []\n",
    "\n",
    "def generate_next_candidates(candidate_node):\n",
    "    next_candidates = candidate_node.children\n",
    "    return next_candidates\n",
    "\n",
    "def calculate_score(candidate_node: TrieNode) -> float:\n",
    "    # This function calculates the score for a given candidate node.\n",
    "    # It returns the score as a float value.\n",
    "\n",
    "    # The score can be based on the probability of the candidate node or any other metric.\n",
    "    score = candidate_node.probability\n",
    "    return score        \n",
    "\n",
    "def beam_search(initial_state: TrieNode, beam_width: int, max_length: int) -> str:\n",
    "    # Initialize the beam with the initial state\n",
    "    beam = [(initial_state, 0.0)]  # (candidate_node, score)\n",
    "\n",
    "    # Perform beam search\n",
    "    for _ in range(max_length):\n",
    "        new_beam = []\n",
    "        for candidate_node, score in beam:\n",
    "            # Generate all possible next candidates from the current candidate node\n",
    "            next_candidates = generate_next_candidates(candidate_node)\n",
    "            for next_candidate in next_candidates:\n",
    "                # Calculate the score for the next candidate node\n",
    "                next_score = score + calculate_score(next_candidate)\n",
    "\n",
    "                # Add the next candidate node and its score to the new beam\n",
    "                heapq.heappush(new_beam, (next_score, next_candidate))\n",
    "\n",
    "        # Keep only the top-k candidate nodes with the highest scores\n",
    "        beam = heapq.nlargest(beam_width, new_beam)\n",
    "\n",
    "    # Select the candidate node with the highest overall score as the final output\n",
    "    final_candidate_node, _ = max(beam)\n",
    "\n",
    "    # Build the sentence by concatenating the characters of the selected candidate nodes\n",
    "    sentence = ''.join(node.character for node in final_candidate_node)\n",
    "\n",
    "    return sentence\n",
    "\n",
    "# Example Trie structure\n",
    "trie_root = TrieNode(character='<s>', probability=1.0)\n",
    "node1 = TrieNode(character='H', probability=0.3)\n",
    "node2 = TrieNode(character='T', probability=0.2)\n",
    "node3 = TrieNode(character='E', probability=0.5)\n",
    "node4 = TrieNode(character='L', probability=0.4)\n",
    "node5 = TrieNode(character='O', probability=0.6)\n",
    "node6 = TrieNode(character='W', probability=0.2)\n",
    "node7 = TrieNode(character='R', probability=0.3)\n",
    "node8 = TrieNode(character='D', probability=0.5)\n",
    "node9 = TrieNode(character='!', probability=0.1)\n",
    "\n",
    "trie_root.children = [node1, node2, node3]\n",
    "node1.children = [node4]\n",
    "node2.children = [node5]\n",
    "node3.children = [node6, node7]\n",
    "node4.children = [node8]\n",
    "node5.children = [node9]\n",
    "\n",
    "# Parameters for beam search\n",
    "beam_width = 3\n",
    "max_length = 5\n",
    "\n",
    "# Perform beam search\n",
    "generated_sentence = beam_search(trie_root, beam_width, max_length)\n",
    "\n",
    "print(generated_sentence)"
   ]
  },
  {
   "cell_type": "code",
   "execution_count": null,
   "id": "69e4ee22-ceb3-451a-9dbb-33073ff07b12",
   "metadata": {},
   "outputs": [],
   "source": []
  }
 ],
 "metadata": {
  "kernelspec": {
   "display_name": "Python 3",
   "language": "python",
   "name": "python3"
  },
  "language_info": {
   "codemirror_mode": {
    "name": "ipython",
    "version": 3
   },
   "file_extension": ".py",
   "mimetype": "text/x-python",
   "name": "python",
   "nbconvert_exporter": "python",
   "pygments_lexer": "ipython3",
   "version": "3.6.13"
  }
 },
 "nbformat": 4,
 "nbformat_minor": 5
}
